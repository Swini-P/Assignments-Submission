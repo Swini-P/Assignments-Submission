{
  "nbformat": 4,
  "nbformat_minor": 0,
  "metadata": {
    "colab": {
      "name": "Day-3 Assignment.ipynb",
      "provenance": [],
      "authorship_tag": "ABX9TyMem3ik2Gdf7MBKaLJzu9P/",
      "include_colab_link": true
    },
    "kernelspec": {
      "name": "python3",
      "display_name": "Python 3"
    },
    "language_info": {
      "name": "python"
    }
  },
  "cells": [
    {
      "cell_type": "markdown",
      "metadata": {
        "id": "view-in-github",
        "colab_type": "text"
      },
      "source": [
        "<a href=\"https://colab.research.google.com/github/Swini-P/Assignments-Submission/blob/main/Day_3_Assignment.ipynb\" target=\"_parent\"><img src=\"https://colab.research.google.com/assets/colab-badge.svg\" alt=\"Open In Colab\"/></a>"
      ]
    },
    {
      "cell_type": "code",
      "execution_count": 12,
      "metadata": {
        "colab": {
          "base_uri": "https://localhost:8080/"
        },
        "id": "Oo1FOZYN1pBh",
        "outputId": "82d7f5c4-26ba-42f5-a303-301d023df76c"
      },
      "outputs": [
        {
          "output_type": "stream",
          "name": "stdout",
          "text": [
            "Max_Value is :  25000\n"
          ]
        }
      ],
      "source": [
        "mydict = {'id' : 101, \"Bonus\": 4000, 'Salary' : 25000}\n",
        "my_values = mydict.values()\n",
        "Max_Value = max(mydict.values())\n",
        "print(\"Max_Value is : \", Max_Value)\n",
        "\n"
      ]
    }
  ]
}