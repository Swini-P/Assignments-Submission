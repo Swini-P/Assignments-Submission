{
  "nbformat": 4,
  "nbformat_minor": 0,
  "metadata": {
    "colab": {
      "name": "Day-1 Assignment.ipynb",
      "provenance": [],
      "collapsed_sections": [],
      "authorship_tag": "ABX9TyNPXwWgD+naW2Gbb48Trj2e",
      "include_colab_link": true
    },
    "kernelspec": {
      "name": "python3",
      "display_name": "Python 3"
    },
    "language_info": {
      "name": "python"
    }
  },
  "cells": [
    {
      "cell_type": "markdown",
      "metadata": {
        "id": "view-in-github",
        "colab_type": "text"
      },
      "source": [
        "<a href=\"https://colab.research.google.com/github/Swini-P/Assignments-Submission/blob/main/Day_1_Assignment.ipynb\" target=\"_parent\"><img src=\"https://colab.research.google.com/assets/colab-badge.svg\" alt=\"Open In Colab\"/></a>"
      ]
    },
    {
      "cell_type": "code",
      "execution_count": 3,
      "metadata": {
        "id": "xx4MZQY_jBvW",
        "colab": {
          "base_uri": "https://localhost:8080/"
        },
        "outputId": "362b57dd-56ea-4241-be89-a22b2b1ff559"
      },
      "outputs": [
        {
          "output_type": "stream",
          "name": "stdout",
          "text": [
            "Enter values: 10 15 20 45 35\n",
            "[10, 15, 20, 45, 35]\n",
            "125\n"
          ]
        }
      ],
      "source": [
        "x = [int(i) for i in input('Enter values: ').split()]\n",
        "\n",
        "print(x)\n",
        "print(sum(x))"
      ]
    },
    {
      "cell_type": "code",
      "source": [
        ""
      ],
      "metadata": {
        "id": "umVwYWOvKpo9"
      },
      "execution_count": null,
      "outputs": []
    }
  ]
}