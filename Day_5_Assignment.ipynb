{
  "nbformat": 4,
  "nbformat_minor": 0,
  "metadata": {
    "colab": {
      "name": "Day-5 Assignment.ipynb",
      "provenance": [],
      "authorship_tag": "ABX9TyNdvR5k//q47zShLVHsJjET",
      "include_colab_link": true
    },
    "kernelspec": {
      "name": "python3",
      "display_name": "Python 3"
    },
    "language_info": {
      "name": "python"
    }
  },
  "cells": [
    {
      "cell_type": "markdown",
      "metadata": {
        "id": "view-in-github",
        "colab_type": "text"
      },
      "source": [
        "<a href=\"https://colab.research.google.com/github/Swini-P/Assignments-Submission/blob/main/Day_5_Assignment.ipynb\" target=\"_parent\"><img src=\"https://colab.research.google.com/assets/colab-badge.svg\" alt=\"Open In Colab\"/></a>"
      ]
    },
    {
      "cell_type": "code",
      "source": [
        "# Use filter function to filter out the elements from a list that are divisible by 3 & 5\n",
        "def fun(n):\n",
        "  return n % 3 == 0 or n % 5 == 0\n",
        "\n",
        "li = [12, 2, 3, 9, 4, 6, 10, 15, 7, 8, 30]\n",
        "\n",
        "print(list(filter(fun, li)))\n"
      ],
      "metadata": {
        "colab": {
          "base_uri": "https://localhost:8080/"
        },
        "id": "M5OicQG35Wl4",
        "outputId": "706a117d-339d-42ed-a19d-f58fe89b9b37"
      },
      "execution_count": 1,
      "outputs": [
        {
          "output_type": "stream",
          "name": "stdout",
          "text": [
            "[12, 3, 9, 6, 10, 15, 30]\n"
          ]
        }
      ]
    }
  ]
}