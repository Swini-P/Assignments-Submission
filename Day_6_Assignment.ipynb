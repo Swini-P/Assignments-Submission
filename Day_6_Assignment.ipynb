{
  "nbformat": 4,
  "nbformat_minor": 0,
  "metadata": {
    "colab": {
      "name": "Day-6 Assignment.ipynb",
      "provenance": [],
      "collapsed_sections": [],
      "authorship_tag": "ABX9TyMHUOP23nkVkSuVSbxB60au",
      "include_colab_link": true
    },
    "kernelspec": {
      "name": "python3",
      "display_name": "Python 3"
    },
    "language_info": {
      "name": "python"
    }
  },
  "cells": [
    {
      "cell_type": "markdown",
      "metadata": {
        "id": "view-in-github",
        "colab_type": "text"
      },
      "source": [
        "<a href=\"https://colab.research.google.com/github/Swini-P/Assignments-Submission/blob/main/Day_6_Assignment.ipynb\" target=\"_parent\"><img src=\"https://colab.research.google.com/assets/colab-badge.svg\" alt=\"Open In Colab\"/></a>"
      ]
    },
    {
      "cell_type": "code",
      "execution_count": 3,
      "metadata": {
        "colab": {
          "base_uri": "https://localhost:8080/"
        },
        "id": "h55wieB3F8Q7",
        "outputId": "ed384186-fdd7-46d6-fdd6-ebed383e1ad4"
      },
      "outputs": [
        {
          "output_type": "stream",
          "name": "stdout",
          "text": [
            "Enter two values: 35 30\n",
            "1\n"
          ]
        }
      ],
      "source": [
        "\n",
        "def div_mod(fun): \n",
        "  def inner(a, b):\n",
        "    if a < b:\n",
        "      a, b = b, a\n",
        "    fun(a, b)\n",
        "\n",
        "  return inner\n",
        "\n",
        "@div_mod\n",
        "def div(a, b):\n",
        "  print(a // b)\n",
        "\n",
        "a, b = (int(i) for i in input('Enter two values: ').split())\n",
        "div(a, b)\n"
      ]
    }
  ]
}