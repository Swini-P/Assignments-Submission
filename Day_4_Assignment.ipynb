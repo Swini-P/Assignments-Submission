{
  "nbformat": 4,
  "nbformat_minor": 0,
  "metadata": {
    "colab": {
      "name": "Day-4 Assignment.ipynb",
      "provenance": [],
      "authorship_tag": "ABX9TyNANVlbDRN+vDdu8HTrRxZ+",
      "include_colab_link": true
    },
    "kernelspec": {
      "name": "python3",
      "display_name": "Python 3"
    },
    "language_info": {
      "name": "python"
    }
  },
  "cells": [
    {
      "cell_type": "markdown",
      "metadata": {
        "id": "view-in-github",
        "colab_type": "text"
      },
      "source": [
        "<a href=\"https://colab.research.google.com/github/Swini-P/Assignments-Submission/blob/main/Day_4_Assignment.ipynb\" target=\"_parent\"><img src=\"https://colab.research.google.com/assets/colab-badge.svg\" alt=\"Open In Colab\"/></a>"
      ]
    },
    {
      "cell_type": "code",
      "execution_count": null,
      "metadata": {
        "id": "RDjGmuxsizFR"
      },
      "outputs": [],
      "source": [
        "#Define a function which will take a number as argument and return its factorial. Call the function to print factorial of any number(integer)."
      ]
    },
    {
      "cell_type": "code",
      "source": [
        "def factorial(x):\n",
        "  if x == 1:\n",
        "    return 1\n",
        "  else:\n",
        "    return (x*factorial(x-1))\n",
        "num = int(input(\"Num: \"))\n",
        "print(\"The factorial of a \",num, \"is: \", factorial(num))"
      ],
      "metadata": {
        "colab": {
          "base_uri": "https://localhost:8080/"
        },
        "id": "axB-2MqRjGW_",
        "outputId": "63f90d2d-30a4-4680-ab5f-473b503da86f"
      },
      "execution_count": 9,
      "outputs": [
        {
          "output_type": "stream",
          "name": "stdout",
          "text": [
            "Num: 5\n",
            "The factorial of a  5 is:  120\n"
          ]
        }
      ]
    },
    {
      "cell_type": "code",
      "source": [
        ""
      ],
      "metadata": {
        "id": "dRkwelqzi8AI"
      },
      "execution_count": null,
      "outputs": []
    }
  ]
}